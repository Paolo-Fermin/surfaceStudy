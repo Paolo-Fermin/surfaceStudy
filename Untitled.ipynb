{
 "cells": [
  {
   "cell_type": "code",
   "execution_count": 1,
   "metadata": {},
   "outputs": [
    {
     "name": "stdout",
     "output_type": "stream",
     "text": [
      "/home/paolofermin/OpenFOAM/paolofermin-v1812/run/surfaceStudy\n"
     ]
    }
   ],
   "source": [
    "import os\n",
    "\n",
    "#os.chdir('data')\n",
    "root_dir = os.path.join(os.getcwd(), 'data')\n",
    "print(os.getcwd())\n",
    "\n"
   ]
  },
  {
   "cell_type": "code",
   "execution_count": 8,
   "metadata": {},
   "outputs": [
    {
     "name": "stdout",
     "output_type": "stream",
     "text": [
      "[[0.005, -30.0], [0.001, -60.0], [0.01, -30.0], [0.001, -90.0], [0.01, -60.0], [0.001, -30.0], [0.005, -60.0], [0.01, -90.0], [0.005, -90.0]]\n"
     ]
    }
   ],
   "source": [
    "input_combos = []\n",
    "for case in os.listdir(root_dir):\n",
    "    if case.startswith('dTdz'):\n",
    "        input_combos.append([float(case[4:9]), float(case[-3:])])\n",
    "    \n",
    "print(input_combos)\n",
    "    "
   ]
  },
  {
   "cell_type": "code",
   "execution_count": null,
   "metadata": {},
   "outputs": [],
   "source": [
    "import torch\n",
    "\n",
    "input_combos_tensor = torch.FloatTensor(input_combos)\n",
    "print(input_combos_tensor)\n"
   ]
  },
  {
   "cell_type": "code",
   "execution_count": null,
   "metadata": {},
   "outputs": [],
   "source": [
    "#get wake images based on input params\n",
    "\n",
    "import pandas as pd\n",
    "\n",
    "for combo in input_combos_tensor:\n",
    "    case_dir = 'dTdz%.3f_z%d' % (combo[0], combo[1])\n",
    "    uy_data = pd.read_csv(os.path.join(case_dir, 'UySym_down.csv'), index_col=0)\n",
    "    #print(uy_data)\n",
    "    uy_data_tensor = torch.FloatTensor(uy_data.values)\n",
    "    #print(uy_data_tensor)\n",
    "    uz_data = pd.read_csv(os.path.join(case_dir, 'UzSym_down.csv'), index_col=0)\n",
    "    uz_data_tensor = torch.FloatTensor(uz_data.values)\n",
    "    #print(uz_data_tensor)\n",
    "    \n",
    "    images = torch.cat((uy_data_tensor, uz_data_tensor), 1)\n",
    "    print(images.size())\n",
    "    \n",
    "    "
   ]
  }
 ],
 "metadata": {
  "kernelspec": {
   "display_name": "Python 2",
   "language": "python",
   "name": "python2"
  },
  "language_info": {
   "codemirror_mode": {
    "name": "ipython",
    "version": 2
   },
   "file_extension": ".py",
   "mimetype": "text/x-python",
   "name": "python",
   "nbconvert_exporter": "python",
   "pygments_lexer": "ipython2",
   "version": "2.7.15rc1"
  }
 },
 "nbformat": 4,
 "nbformat_minor": 2
}
